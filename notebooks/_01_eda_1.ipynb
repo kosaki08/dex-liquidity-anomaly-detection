{
 "cells": [
  {
   "cell_type": "code",
   "execution_count": null,
   "metadata": {
    "scrolled": true
   },
   "outputs": [],
   "source": [
    "# パッケージをインストール\n",
    "%pip install -qe .."
   ]
  },
  {
   "cell_type": "code",
   "execution_count": 2,
   "metadata": {},
   "outputs": [],
   "source": [
    "import duckdb\n",
    "import japanize_matplotlib  # noqa: F401\n",
    "import matplotlib.dates as mdates\n",
    "import matplotlib.pyplot as plt\n",
    "import numpy as np\n",
    "import pandas as pd\n",
    "import seaborn as sns"
   ]
  },
  {
   "cell_type": "markdown",
   "metadata": {},
   "source": [
    "## 基本設定\n"
   ]
  },
  {
   "cell_type": "code",
   "execution_count": 3,
   "metadata": {},
   "outputs": [],
   "source": [
    "plt.style.use(\"ggplot\")"
   ]
  },
  {
   "cell_type": "code",
   "execution_count": null,
   "metadata": {},
   "outputs": [],
   "source": [
    "with duckdb.connect(\"../data/raw/etl_from_sf.duckdb\", read_only=True) as con:\n",
    "    df = con.execute(\"SELECT * FROM raw_clean_with_pool\").df()\n",
    "df.head()"
   ]
  },
  {
   "cell_type": "code",
   "execution_count": null,
   "metadata": {},
   "outputs": [],
   "source": [
    "df.info()"
   ]
  },
  {
   "cell_type": "code",
   "execution_count": null,
   "metadata": {},
   "outputs": [],
   "source": [
    "df.columns"
   ]
  },
  {
   "cell_type": "code",
   "execution_count": 7,
   "metadata": {},
   "outputs": [],
   "source": [
    "raw_clean_with_pool = df"
   ]
  },
  {
   "cell_type": "code",
   "execution_count": null,
   "metadata": {},
   "outputs": [],
   "source": [
    "print(raw_clean_with_pool.shape)\n",
    "print(raw_clean_with_pool.dtypes)"
   ]
  },
  {
   "cell_type": "code",
   "execution_count": null,
   "metadata": {},
   "outputs": [],
   "source": [
    "print(raw_clean_with_pool.isna().sum())\n",
    "print(raw_clean_with_pool.astype(str).duplicated().sum())"
   ]
  },
  {
   "cell_type": "markdown",
   "metadata": {},
   "source": [
    "## データ変換\n"
   ]
  },
  {
   "cell_type": "code",
   "execution_count": 10,
   "metadata": {},
   "outputs": [],
   "source": [
    "# タイムスタンプを日時に変換\n",
    "raw_clean_with_pool[\"datetime\"] = pd.to_datetime(raw_clean_with_pool[\"hour_ts\"], unit=\"s\")"
   ]
  },
  {
   "cell_type": "code",
   "execution_count": 11,
   "metadata": {},
   "outputs": [],
   "source": [
    "# IDからプールアドレスとインデックスを抽出\n",
    "raw_clean_with_pool[\"pool_address\"] = raw_clean_with_pool[\"id\"].str.split(\"-\").str[0]\n",
    "raw_clean_with_pool[\"block_index\"] = raw_clean_with_pool[\"id\"].str.split(\"-\").str[1]"
   ]
  },
  {
   "cell_type": "code",
   "execution_count": null,
   "metadata": {},
   "outputs": [],
   "source": [
    "# 重複確認と除去\n",
    "print(f\"重複行数: {raw_clean_with_pool.duplicated().sum()}\")\n",
    "raw_clean_with_pool = raw_clean_with_pool.drop_duplicates()\n",
    "print(f\"重複除去後の行数: {raw_clean_with_pool.shape[0]}\")"
   ]
  },
  {
   "cell_type": "code",
   "execution_count": 13,
   "metadata": {},
   "outputs": [],
   "source": [
    "# フィーティアごとのプール数\n",
    "fee_tier_counts = raw_clean_with_pool[\"fee_tier\"].value_counts().reset_index()\n",
    "fee_tier_counts.columns = [\"fee_tier\", \"count\"]"
   ]
  },
  {
   "cell_type": "code",
   "execution_count": null,
   "metadata": {},
   "outputs": [],
   "source": [
    "# 基本統計量の確認\n",
    "raw_clean_with_pool.describe()"
   ]
  },
  {
   "cell_type": "code",
   "execution_count": 15,
   "metadata": {},
   "outputs": [],
   "source": [
    "# 数値カラムのキャスト\n",
    "num_cols = [\n",
    "    \"volume_usd\",\n",
    "    \"tvl_usd\",\n",
    "    \"fees_usd\",\n",
    "    \"open_price\",\n",
    "    \"high_price\",\n",
    "    \"low_price\",\n",
    "    \"close_price\",\n",
    "    \"liquidity\",\n",
    "    \"volume_token0\",\n",
    "    \"volume_token1\",\n",
    "    \"tx_count\",\n",
    "    \"tick\",\n",
    "    \"sqrt_price\",\n",
    "]\n",
    "for c in num_cols:\n",
    "    raw_clean_with_pool[c] = pd.to_numeric(raw_clean_with_pool[c], errors=\"coerce\")"
   ]
  },
  {
   "cell_type": "markdown",
   "metadata": {},
   "source": [
    "### 異常値の検出 & クリーニング\n"
   ]
  },
  {
   "cell_type": "code",
   "execution_count": 16,
   "metadata": {},
   "outputs": [],
   "source": [
    "#  clip で下限 0、 or 上限 percentile 99.9% に制限\n",
    "raw_clean_with_pool[\"tvl_usd\"] = raw_clean_with_pool[\"tvl_usd\"].clip(lower=0)\n",
    "upper = raw_clean_with_pool[\"volume_usd\"].quantile(0.999)\n",
    "raw_clean_with_pool = raw_clean_with_pool[raw_clean_with_pool[\"volume_usd\"] <= upper]"
   ]
  },
  {
   "cell_type": "code",
   "execution_count": null,
   "metadata": {},
   "outputs": [],
   "source": [
    "# 欠損の確認（型変換で NaN が入る可能性があるため）\n",
    "print(raw_clean_with_pool[num_cols].isna().sum())\n",
    "raw_clean_with_pool = raw_clean_with_pool.dropna(subset=num_cols)"
   ]
  },
  {
   "cell_type": "markdown",
   "metadata": {},
   "source": [
    "## 可視化\n"
   ]
  },
  {
   "cell_type": "markdown",
   "metadata": {},
   "source": [
    "### 分布の可視化：Plotly Express を使ったヒストグラム＆箱ひげ図\n"
   ]
  },
  {
   "cell_type": "code",
   "execution_count": null,
   "metadata": {},
   "outputs": [],
   "source": [
    "# 各カラムに対してヒストグラムと箱ひげ図を作成\n",
    "for c in [\"volume_usd\", \"tvl_usd\", \"fees_usd\"]:\n",
    "    # ヒストグラム作成\n",
    "    fig, ax = plt.subplots(figsize=(10, 6))\n",
    "    ax.hist(raw_clean_with_pool[c], bins=100, alpha=0.75)\n",
    "    ax.set_title(f\"{c} の分布 (logスケール)\")\n",
    "    ax.set_xlabel(c)\n",
    "    ax.set_ylabel(\"件数\")\n",
    "    ax.set_yscale(\"log\")  # y軸をログスケールに設定\n",
    "    plt.tight_layout()\n",
    "    plt.show()\n",
    "\n",
    "    # 箱ひげ図作成\n",
    "    fig, ax = plt.subplots(figsize=(10, 6))\n",
    "    boxplot = ax.boxplot(\n",
    "        raw_clean_with_pool[c], showfliers=True, flierprops={\"marker\": \"o\", \"markerfacecolor\": \"red\", \"markersize\": 5}\n",
    "    )\n",
    "    ax.set_title(f\"{c} の箱ひげ図（外れ値のみ）\")\n",
    "    ax.set_ylabel(c)\n",
    "    ax.set_xticks([])  # x軸の目盛りを非表示（単一の箱ひげ図では不要）\n",
    "    plt.tight_layout()\n",
    "    plt.show()"
   ]
  },
  {
   "cell_type": "markdown",
   "metadata": {},
   "source": [
    "### 時系列パターンの可視化：日次／主要プールごと\n"
   ]
  },
  {
   "cell_type": "code",
   "execution_count": null,
   "metadata": {},
   "outputs": [],
   "source": [
    "# 日次集計プロット\n",
    "daily = (\n",
    "    raw_clean_with_pool.assign(date=lambda df: df[\"datetime\"].dt.date).groupby(\"date\")[\"volume_usd\"].sum().reset_index()\n",
    ")\n",
    "\n",
    "plt.figure(figsize=(12, 6))\n",
    "sns.lineplot(data=daily, x=\"date\", y=\"volume_usd\", marker=\"o\", markersize=4, linewidth=1.5)\n",
    "plt.title(\"日次 Volume USD の推移\")\n",
    "plt.xlabel(\"日付\")\n",
    "plt.ylabel(\"Volume USD\")\n",
    "# 日付フォーマットの調整\n",
    "plt.gca().xaxis.set_major_formatter(mdates.DateFormatter(\"%Y-%m-%d\"))\n",
    "plt.xticks(rotation=45)\n",
    "plt.tight_layout()\n",
    "plt.show()\n",
    "\n",
    "# トップ5プールの推移\n",
    "top5 = raw_clean_with_pool.groupby(\"pool_address\")[\"volume_usd\"].sum().nlargest(5).index\n",
    "\n",
    "# オプション1: 個別プロット（元のコードと同様）\n",
    "for p in top5:\n",
    "    dfp = raw_clean_with_pool.query(\"pool_address == @p\")\n",
    "    dfp_agg = dfp.set_index(\"datetime\").resample(\"D\")[\"volume_usd\"].sum().reset_index()\n",
    "\n",
    "    plt.figure(figsize=(12, 6))\n",
    "    sns.lineplot(data=dfp_agg, x=\"datetime\", y=\"volume_usd\", marker=\"o\", markersize=4, linewidth=1.5)\n",
    "    plt.title(f\"プール {p} の時間推移\")\n",
    "    plt.xlabel(\"日時\")\n",
    "    plt.ylabel(\"Volume USD\")\n",
    "    # 日付フォーマットの調整\n",
    "    plt.gca().xaxis.set_major_formatter(mdates.DateFormatter(\"%Y-%m-%d\"))\n",
    "    plt.xticks(rotation=45)\n",
    "    plt.tight_layout()\n",
    "    plt.show()"
   ]
  },
  {
   "cell_type": "code",
   "execution_count": null,
   "metadata": {},
   "outputs": [],
   "source": [
    "# 数値変数の分布を Seaborn で可視化\n",
    "numeric_cols = [\"volume_usd\", \"tvl_usd\", \"fees_usd\", \"tx_count\", \"token0_price\", \"token1_price\", \"liquidity\"]\n",
    "\n",
    "for col in numeric_cols:\n",
    "    # ヒストグラム\n",
    "    plt.figure(figsize=(10, 6))\n",
    "    sns.histplot(data=raw_clean_with_pool, x=col, bins=50, kde=True, alpha=0.75)\n",
    "    plt.title(f\"Distribution of {col}\")\n",
    "    plt.xlabel(col)\n",
    "    plt.ylabel(\"Frequency\")\n",
    "    plt.grid(True, alpha=0.3)\n",
    "    plt.tight_layout()\n",
    "    plt.show()\n",
    "\n",
    "    # 箱ひげ図\n",
    "    plt.figure(figsize=(8, 6))\n",
    "    sns.boxplot(y=raw_clean_with_pool[col], color=\"lightblue\")\n",
    "    plt.title(f\"Boxplot of {col}\")\n",
    "    plt.ylabel(col)\n",
    "    plt.grid(True, axis=\"y\", alpha=0.3)\n",
    "    plt.tight_layout()\n",
    "    plt.show()\n",
    "\n",
    "    # 対数変換した分布も確認 (歪みが大きい場合に有用)\n",
    "    log_data = np.log1p(raw_clean_with_pool[col])\n",
    "    plt.figure(figsize=(10, 6))\n",
    "    sns.histplot(x=log_data, bins=50, kde=True, alpha=0.75)\n",
    "    plt.title(f\"Distribution of log1p({col})\")\n",
    "    plt.xlabel(f\"log1p({col})\")\n",
    "    plt.ylabel(\"Frequency\")\n",
    "    plt.grid(True, alpha=0.3)\n",
    "    plt.tight_layout()\n",
    "    plt.show()\n",
    "\n",
    "    # バイオリンプロット (分布の形状をより詳細に確認)\n",
    "    plt.figure(figsize=(8, 6))\n",
    "    sns.violinplot(y=raw_clean_with_pool[col], cut=0)\n",
    "    plt.title(f\"Violin plot of {col}\")\n",
    "    plt.ylabel(col)\n",
    "    plt.grid(True, axis=\"y\", alpha=0.3)\n",
    "    plt.tight_layout()\n",
    "    plt.show()"
   ]
  },
  {
   "cell_type": "markdown",
   "metadata": {},
   "source": [
    "### 4. 多変量相関の可視化：散布行列（ペアプロット）\n"
   ]
  },
  {
   "cell_type": "code",
   "execution_count": null,
   "metadata": {},
   "outputs": [],
   "source": [
    "# 特徴量を絞って散布行列\n",
    "cols_corr = [\"volume_usd\", \"tvl_usd\", \"fees_usd\", \"tx_count\"]\n",
    "sampled_data = raw_clean_with_pool.sample(5000)  # サンプル数を制限\n",
    "\n",
    "# Seabornでペアプロットを作成\n",
    "g = sns.pairplot(sampled_data[cols_corr], height=2.5, aspect=1)\n",
    "\n",
    "# 対角線上の要素を非表示にする\n",
    "for i in range(len(cols_corr)):\n",
    "    g.axes[i, i].set_visible(False)\n",
    "\n",
    "# タイトル設定\n",
    "plt.suptitle(\"主要指標のペアプロット\", fontsize=16)\n",
    "plt.subplots_adjust(top=0.95)  # タイトル用のスペースを調整\n",
    "plt.show()"
   ]
  },
  {
   "cell_type": "markdown",
   "metadata": {},
   "source": [
    "### 異常検知関連特徴量の探索的作成\n"
   ]
  },
  {
   "cell_type": "code",
   "execution_count": null,
   "metadata": {},
   "outputs": [],
   "source": [
    "# ボリュームの変化率 (前Hour比)\n",
    "raw_clean_with_pool[\"volume_change_1h\"] = raw_clean_with_pool.groupby(\"pool_address\")[\"volume_usd\"].pct_change()\n",
    "\n",
    "# TVLとボリュームの比率\n",
    "raw_clean_with_pool[\"tvl_volume_ratio\"] = raw_clean_with_pool[\"tvl_usd\"] / (\n",
    "    raw_clean_with_pool[\"volume_usd\"] + 1e-9\n",
    ")  # ゼロ除算を防ぐ\n",
    "\n",
    "# 新しい特徴量の分布を可視化\n",
    "new_features = [\"volume_change_1h\", \"tvl_volume_ratio\"]\n",
    "\n",
    "for col in new_features:\n",
    "    # 外れ値を除外したデータを取得（可視化用）\n",
    "    # 特に tvl_volume_ratio は非常に大きな値を持つ可能性があるため\n",
    "    data = raw_clean_with_pool[col].copy()\n",
    "    q1, q3 = np.percentile(data.dropna(), [25, 75])\n",
    "    iqr = q3 - q1\n",
    "    upper_bound = q3 + 5 * iqr  # 5 * IQRをカットオフとして使用\n",
    "\n",
    "    # ヒストグラム\n",
    "    fig, ax = plt.subplots(figsize=(10, 6))\n",
    "    ax.hist(data.clip(upper=upper_bound), bins=50, alpha=0.75)\n",
    "    ax.set_title(f\"Distribution of {col}\")\n",
    "    ax.set_xlabel(col)\n",
    "    ax.set_ylabel(\"Frequency\")\n",
    "    plt.grid(True, alpha=0.3)\n",
    "    plt.tight_layout()\n",
    "    plt.show()\n",
    "\n",
    "    # 箱ひげ図\n",
    "    fig, ax = plt.subplots(figsize=(8, 6))\n",
    "    ax.boxplot(\n",
    "        data,\n",
    "        vert=True,\n",
    "        patch_artist=True,\n",
    "        boxprops=dict(facecolor=\"lightblue\", color=\"blue\"),\n",
    "        flierprops=dict(marker=\"o\", markerfacecolor=\"red\", markersize=5),\n",
    "    )\n",
    "    ax.set_title(f\"Boxplot of {col}\")\n",
    "    ax.set_ylabel(col)\n",
    "    ax.set_xticks([])  # x軸目盛りを非表示\n",
    "    plt.grid(True, axis=\"y\", alpha=0.3)\n",
    "    plt.tight_layout()\n",
    "    plt.show()"
   ]
  },
  {
   "cell_type": "code",
   "execution_count": null,
   "metadata": {},
   "outputs": [],
   "source": [
    "from datetime import datetime\n",
    "\n",
    "import pandas as pd\n",
    "\n",
    "# 日付を適切に変換\n",
    "start_date = pd.to_datetime(\"2025-04-16\").date()\n",
    "end_date = pd.to_datetime(\"2025-05-05\").date()\n",
    "\n",
    "# 日付のみの欠損をチェック\n",
    "if isinstance(daily[\"date\"].iloc[0], datetime):\n",
    "    daily_dates = set(d.date() for d in daily[\"date\"])\n",
    "else:\n",
    "    daily_dates = set(daily[\"date\"])\n",
    "\n",
    "# 期間内のすべての日付を生成\n",
    "all_dates = pd.date_range(start=start_date, end=end_date).date\n",
    "missing_dates = [d for d in all_dates if d not in daily_dates]\n",
    "\n",
    "print(\"欠損している日付:\")\n",
    "for d in missing_dates:\n",
    "    print(f\"{d}\")\n",
    "\n",
    "# 元データから時間単位の欠損をチェック\n",
    "print(\"\\n時間単位の詳細:\")\n",
    "\n",
    "# datetimeの一覧を取得（元データから）\n",
    "if \"datetime\" in raw_clean_with_pool.columns:\n",
    "    # ユニークな日時を取得\n",
    "    unique_timestamps = raw_clean_with_pool[\"datetime\"].sort_values().unique()\n",
    "\n",
    "    # 期間内のみをフィルタリング\n",
    "    period_timestamps = [ts for ts in unique_timestamps if start_date <= ts.date() <= end_date]\n",
    "\n",
    "    # 日付ごとの時間をまとめる\n",
    "    date_hours = {}\n",
    "    for ts in period_timestamps:\n",
    "        date = ts.date()\n",
    "        hour = ts.hour\n",
    "        if date not in date_hours:\n",
    "            date_hours[date] = []\n",
    "        date_hours[date].append(hour)\n",
    "\n",
    "    # 各日付の存在する時間を表示\n",
    "    for date in sorted(date_hours.keys()):\n",
    "        hours = sorted(date_hours[date])\n",
    "        missing_hours = [h for h in range(24) if h not in hours]\n",
    "        print(f\"{date}: データあり: {hours}, 欠損: {missing_hours}\")\n",
    "\n",
    "    # データがまったくない日付を表示\n",
    "    complete_missing_dates = [d for d in missing_dates if d not in date_hours]\n",
    "    if complete_missing_dates:\n",
    "        print(\"\\n完全に欠損している日付:\")\n",
    "        for d in complete_missing_dates:\n",
    "            print(f\"{d}: すべての時間帯でデータなし\")\n",
    "else:\n",
    "    print(\"元データに datetime 列がありません\")"
   ]
  },
  {
   "cell_type": "code",
   "execution_count": null,
   "metadata": {},
   "outputs": [],
   "source": []
  }
 ],
 "metadata": {
  "kernelspec": {
   "display_name": "Python 3",
   "language": "python",
   "name": "python3"
  },
  "language_info": {
   "codemirror_mode": {
    "name": "ipython",
    "version": 3
   },
   "file_extension": ".py",
   "mimetype": "text/x-python",
   "name": "python",
   "nbconvert_exporter": "python",
   "pygments_lexer": "ipython3",
   "version": "3.11.12"
  }
 },
 "nbformat": 4,
 "nbformat_minor": 4
}
